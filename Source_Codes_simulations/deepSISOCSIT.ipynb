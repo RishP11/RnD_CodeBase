{
 "cells": [
  {
   "cell_type": "markdown",
   "metadata": {},
   "source": [
    "**deepSISOCSIT**<br>\n",
    "by $\\text{Rishabh Pomaje}$"
   ]
  },
  {
   "cell_type": "markdown",
   "metadata": {},
   "source": [
    "- Autoencoder based SISO system with perfect CSI available at both the transmitter and the receiver.\n",
    "- Objectives :\n",
    "    - To learn a (4, 7) system under the following conditions:\n",
    "        1. Flat-fading, fast fading\n",
    "        2. Rayleigh Channel with AWGN\n",
    "        3. Channel Model : $y_i = h_i x_i + w_i$\n",
    "            - where, $h \\overset{i.i.d}{\\sim} \\mathcal{CN}(0, 1)$ and $w \\overset{i.i.d}{\\sim} \\mathcal{CN}(0, N_0)$"
   ]
  },
  {
   "cell_type": "markdown",
   "metadata": {},
   "source": [
    "**Definitions**\n",
    "\\begin{equation}\n",
    "    \\text{SNR}_{linear} = \\text{Signal-to-noise power ratio per symbol time} = \\frac{E_b}{2N_0}\n",
    "\\end{equation}\n",
    "Consider,\n",
    "\\begin{equation*}\n",
    "    \\frac{1}{2 \\times SNR_{linear}} = \\frac{1 \\times 2N_0}{2 \\times E_b} = \\frac{N_0}{a} = N_0 \\;\\dots (a = 1) \n",
    "\\end{equation*}"
   ]
  },
  {
   "cell_type": "markdown",
   "metadata": {},
   "source": [
    "Also, \n",
    "\n",
    "\\begin{equation*}\n",
    "\\frac{1}{2 \\times R \\times SNR_{linear}} = \\frac{1 \\times n \\times N_0}{2 \\times k \\times E_b} = \\frac{nN_0}{2k}\n",
    "\\end{equation*}"
   ]
  },
  {
   "cell_type": "code",
   "execution_count": 1,
   "metadata": {},
   "outputs": [
    {
     "name": "stdout",
     "output_type": "stream",
     "text": [
      "2.16.1\n"
     ]
    }
   ],
   "source": [
    "# Dependencies :\n",
    "import numpy as np \n",
    "import matplotlib.pyplot as plt \n",
    "import tensorflow as tf \n",
    "%config InlineBackend.figure_format='svg'\n",
    "TF_ENABLE_ONEDNN_OPTS = 0 \n",
    "print(tf.__version__)"
   ]
  },
  {
   "cell_type": "markdown",
   "metadata": {},
   "source": [
    "- We are restraining to using only BPSK mapping\n",
    "We define SNR as follows :\n",
    "\\begin{equation}\n",
    "\\text{SNR}_{linear} = \\frac{E_b}{N_0} = \\frac{\\text{Received signal energy per bit}}{\\text{Noise Spectral density}}\n",
    "\\end{equation}\n",
    "- Per bit energies :\n",
    "- BPSK : {$\\pm \\sqrt{E_{b}}$}\n",
    "- $E_{uncoded} = 1 $\n",
    "\\begin{equation}\n",
    "E_{coded} = E_{uncoded} \\times k / n = E_{uncoded} \\times R\n",
    "\\end{equation}\n",
    "- $R$ = Information Rate \n",
    "- $\\color{red}{Note}$ : This difference in energy per bit needs to be compensated in either symbol energy or the noise variance. I have arbitrarily chosen it to be the noise variance."
   ]
  },
  {
   "cell_type": "markdown",
   "metadata": {},
   "source": [
    "System Specifications/ Parameters/ Definitions "
   ]
  },
  {
   "cell_type": "code",
   "execution_count": 2,
   "metadata": {},
   "outputs": [],
   "source": [
    "k = 4           # Uncoded block length       \n",
    "n = 7           # Codeword length \n",
    "M = 2 ** 4      # Size of the alphabet \n",
    "R = k / n       # Information rate "
   ]
  },
  {
   "cell_type": "markdown",
   "metadata": {},
   "source": [
    "Generating the training data "
   ]
  },
  {
   "cell_type": "code",
   "execution_count": 4,
   "metadata": {},
   "outputs": [],
   "source": [
    "training_set_size = 10 ** 6\n",
    "\n",
    "# Random indices \n",
    "samples_indices = np.random.randint(0, M, training_set_size)\n",
    "\n",
    "# Converting the indices to 1-hot vectors\n",
    "x_train = np.zeros((training_set_size, M))\n",
    "x_train[np.arange(training_set_size), samples_indices] = 1\n",
    "\n",
    "# We wish to reconstruct the input at the output\n",
    "y_train = x_train\n",
    "\n",
    "# Generate random fading taps for training == CSI @ Tx + Rx\n",
    "fade_mean = 0 \n",
    "fade_std = np.sqrt(0.5)\n",
    "fade_taps_real = np.random.normal(fade_mean, fade_std, (training_set_size, n))\n",
    "fade_taps_imag = np.random.normal(fade_mean, fade_std, (training_set_size, n))"
   ]
  },
  {
   "cell_type": "markdown",
   "metadata": {},
   "source": [
    "Creating the Autoencoder"
   ]
  },
  {
   "cell_type": "code",
   "execution_count": null,
   "metadata": {},
   "outputs": [],
   "source": [
    "# Encoder Layers :: (Transmitter)\n",
    "enc_bits_input_layer = tf.keras.Input(shape=(M, ), name=\"Bits_Input_Layer\")\n",
    "enc_csi_input_I = tf.keras.Input(shape=(n, ), name='Fading_Input_Layer_real')\n",
    "enc_csi_input_Q = tf.keras.Input(shape=(n, ), name='Fading_Input_Layer_imag')\n",
    "enc_combined_input = tf.keras.layers.Concatenate()([])"
   ]
  }
 ],
 "metadata": {
  "kernelspec": {
   "display_name": "ML_Tflow",
   "language": "python",
   "name": "python3"
  },
  "language_info": {
   "codemirror_mode": {
    "name": "ipython",
    "version": 3
   },
   "file_extension": ".py",
   "mimetype": "text/x-python",
   "name": "python",
   "nbconvert_exporter": "python",
   "pygments_lexer": "ipython3",
   "version": "3.11.9"
  }
 },
 "nbformat": 4,
 "nbformat_minor": 2
}
