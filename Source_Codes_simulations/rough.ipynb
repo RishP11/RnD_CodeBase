{
 "cells": [
  {
   "cell_type": "code",
   "execution_count": 1,
   "metadata": {},
   "outputs": [
    {
     "data": {
      "text/plain": [
       "40"
      ]
     },
     "execution_count": 1,
     "metadata": {},
     "output_type": "execute_result"
    }
   ],
   "source": [
    "import numpy as np\n",
    "\n",
    "a = np.array([1, 2, 3, 4])\n",
    "b = np.array([2, 3, 4, 5])\n",
    "a @ b"
   ]
  },
  {
   "cell_type": "code",
   "execution_count": 3,
   "metadata": {},
   "outputs": [
    {
     "name": "stdout",
     "output_type": "stream",
     "text": [
      "tf.Tensor([[1. 3. 3. 4. 5. 1. 3. 3. 4. 5.]], shape=(1, 10), dtype=float32)\n"
     ]
    }
   ],
   "source": [
    "import tensorflow as tf\n",
    "\n",
    "class DuplicateLayer(tf.keras.layers.Layer):\n",
    "    def __init__(self):\n",
    "        super(DuplicateLayer, self).__init__()\n",
    "\n",
    "    def call(self, inputs):\n",
    "        return tf.concat([inputs, inputs], axis=-1)\n",
    "\n",
    "# Test the custom layer\n",
    "input_data = tf.constant([[1, 3, 3, 4, 5]], dtype=tf.float32)\n",
    "custom_layer = DuplicateLayer()\n",
    "output_data = custom_layer(input_data)\n",
    "print(output_data)\n"
   ]
  },
  {
   "cell_type": "code",
   "execution_count": 8,
   "metadata": {},
   "outputs": [
    {
     "name": "stdout",
     "output_type": "stream",
     "text": [
      "[[[1 2 3]\n",
      "  [2 4 5]\n",
      "  [6 4 3]]\n",
      "\n",
      " [[1 2 3]\n",
      "  [2 4 5]\n",
      "  [6 4 3]]]\n",
      "(2, 3, 3)\n",
      "[6 4 3]\n",
      "[6 4 3]\n"
     ]
    }
   ],
   "source": [
    "import numpy as np \n",
    "\n",
    "z = np.array([[[1, 2, 3], [2, 4, 5], [6, 4, 3]], [[1, 2, 3], [2, 4, 5], [6, 4, 3]]])\n",
    "\n",
    "print(z)\n",
    "print(np.shape(z))\n",
    "print(z[1, 2])\n",
    "print(z[1][2])"
   ]
  },
  {
   "cell_type": "code",
   "execution_count": null,
   "metadata": {},
   "outputs": [],
   "source": []
  }
 ],
 "metadata": {
  "kernelspec": {
   "display_name": "ML_Tflow",
   "language": "python",
   "name": "python3"
  },
  "language_info": {
   "codemirror_mode": {
    "name": "ipython",
    "version": 3
   },
   "file_extension": ".py",
   "mimetype": "text/x-python",
   "name": "python",
   "nbconvert_exporter": "python",
   "pygments_lexer": "ipython3",
   "version": "3.11.9"
  }
 },
 "nbformat": 4,
 "nbformat_minor": 2
}
