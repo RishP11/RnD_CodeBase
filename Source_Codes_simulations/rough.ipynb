{
 "cells": [
  {
   "cell_type": "code",
   "execution_count": 2,
   "metadata": {},
   "outputs": [
    {
     "data": {
      "text/plain": [
       "40"
      ]
     },
     "execution_count": 2,
     "metadata": {},
     "output_type": "execute_result"
    }
   ],
   "source": [
    "import numpy as np\n",
    "\n",
    "a = np.array([1, 2, 3, 4])\n",
    "b = np.array([2, 3, 4, 5])\n",
    "a @ b"
   ]
  },
  {
   "cell_type": "code",
   "execution_count": 3,
   "metadata": {},
   "outputs": [
    {
     "name": "stdout",
     "output_type": "stream",
     "text": [
      "tf.Tensor([[1. 3. 3. 4. 5. 1. 3. 3. 4. 5.]], shape=(1, 10), dtype=float32)\n"
     ]
    }
   ],
   "source": [
    "import tensorflow as tf\n",
    "\n",
    "class DuplicateLayer(tf.keras.layers.Layer):\n",
    "    def __init__(self):\n",
    "        super(DuplicateLayer, self).__init__()\n",
    "\n",
    "    def call(self, inputs):\n",
    "        return tf.concat([inputs, inputs], axis=-1)\n",
    "\n",
    "# Test the custom layer\n",
    "input_data = tf.constant([[1, 3, 3, 4, 5]], dtype=tf.float32)\n",
    "custom_layer = DuplicateLayer()\n",
    "output_data = custom_layer(input_data)\n",
    "print(output_data)\n"
   ]
  },
  {
   "cell_type": "code",
   "execution_count": 4,
   "metadata": {},
   "outputs": [
    {
     "name": "stdout",
     "output_type": "stream",
     "text": [
      "[[[1 2 3]\n",
      "  [2 4 5]\n",
      "  [6 4 3]]\n",
      "\n",
      " [[1 2 3]\n",
      "  [2 4 5]\n",
      "  [6 4 3]]]\n",
      "(2, 3, 3)\n",
      "[6 4 3]\n",
      "[6 4 3]\n"
     ]
    }
   ],
   "source": [
    "import numpy as np \n",
    "\n",
    "z = np.array([[[1, 2, 3], [2, 4, 5], [6, 4, 3]], [[1, 2, 3], [2, 4, 5], [6, 4, 3]]])\n",
    "\n",
    "print(z)\n",
    "print(np.shape(z))\n",
    "print(z[1, 2])\n",
    "print(z[1][2])"
   ]
  },
  {
   "cell_type": "code",
   "execution_count": 5,
   "metadata": {},
   "outputs": [
    {
     "data": {
      "text/plain": [
       "array([1.-5.j, 2.-3.j])"
      ]
     },
     "execution_count": 5,
     "metadata": {},
     "output_type": "execute_result"
    }
   ],
   "source": [
    "import numpy as np \n",
    "\n",
    "a = np.array([1, 2, 4])\n",
    "a[0:1]\n",
    "b = np.array([1+5j, 2+3j])\n",
    "np.conjugate(b)"
   ]
  },
  {
   "cell_type": "code",
   "execution_count": 6,
   "metadata": {},
   "outputs": [
    {
     "data": {
      "image/png": "[encoded data removed]",
      "text/plain": [
       "<Figure size 640x480 with 1 Axes>"
      ]
     },
     "metadata": {},
     "output_type": "display_data"
    }
   ],
   "source": [
    "from time import time\n",
    "from numpy import sqrt\n",
    "import random\n",
    "import matplotlib.pyplot as plt\n",
    "\n",
    "t=time()\n",
    "\n",
    "N = 10000\n",
    "EbNodB_range = range(0, 11)\n",
    "itr = len(EbNodB_range)\n",
    "ber = [None]*itr\n",
    "\n",
    "for n in range (0, itr): \n",
    " \n",
    "    EbNodB = EbNodB_range[n]   \n",
    "    EbNo=10.0**(EbNodB/10.0)\n",
    "    noise_std = 1/sqrt(2*EbNo)\n",
    "    noise_mean = 0\n",
    "    \n",
    "    no_errors = 0\n",
    "    for m in range (0, N):\n",
    "        tx_symbol1 = (2*random.randint(0,1)-1)\n",
    "        tx_symbol2 = (2*random.randint(0,1)-1)\n",
    "                \n",
    "        noise1 = (random.gauss(noise_mean, noise_std)+\n",
    "                1j*random.gauss(noise_mean, noise_std))\n",
    "        noise2 = (random.gauss(noise_mean, noise_std)+\n",
    "                1j*random.gauss(noise_mean, noise_std))\n",
    "        \n",
    "        \n",
    "        ch_coeff1 = (random.gauss(0,1/sqrt(2))+\n",
    "                    1j*random.gauss(0,1/sqrt(2)))\n",
    "        ch_coeff2 = (random.gauss(0,1/sqrt(2))+\n",
    "                    1j*random.gauss(0,1/sqrt(2)))\n",
    "        \n",
    "        rx_symbol1 =  ((1/sqrt(2))*tx_symbol1*ch_coeff1+ \n",
    "                       (1/sqrt(2))*tx_symbol2*ch_coeff2 + noise1)\n",
    "        rx_symbol2 = (-(1/sqrt(2))*tx_symbol2*ch_coeff1+ \n",
    "                       (1/sqrt(2))*tx_symbol1*ch_coeff2 + noise2)\n",
    "        \n",
    "        estimate1 = (ch_coeff1.conjugate()*rx_symbol1+\n",
    "                     ch_coeff2*rx_symbol2.conjugate())\n",
    "        estimate2 = (ch_coeff2.conjugate()*rx_symbol1-\n",
    "                     ch_coeff1*rx_symbol2.conjugate())\n",
    "        \n",
    "        det_symbol1 = 2*(estimate1.real >= 0) - 1\n",
    "        det_symbol2 = 2*(estimate2.real >= 0) - 1\n",
    "        \n",
    "        no_errors += 1*(tx_symbol1 != det_symbol1)+1*(tx_symbol2 != det_symbol2)  \n",
    "          \n",
    "    ber[n] = 1.0*no_errors/(2*N)\n",
    "        \n",
    "plt.plot(EbNodB_range, ber, 'bo-')\n",
    "plt.axis([0, 10, 0.001, 0.125])\n",
    "plt.xscale('linear')\n",
    "plt.yscale('log')\n",
    "plt.xlabel('EbNo(dB)')\n",
    "plt.ylabel('BER')\n",
    "#plt.grid(True)\n",
    "plt.title('BPSK Modulation - Alamouti Scheme')\n",
    "plt.show()"
   ]
  }
 ],
 "metadata": {
  "kernelspec": {
   "display_name": "ML_Tflow",
   "language": "python",
   "name": "python3"
  },
  "language_info": {
   "codemirror_mode": {
    "name": "ipython",
    "version": 3
   },
   "file_extension": ".py",
   "mimetype": "text/x-python",
   "name": "python",
   "nbconvert_exporter": "python",
   "pygments_lexer": "ipython3",
   "version": "3.11.9"
  }
 },
 "nbformat": 4,
 "nbformat_minor": 2
}
