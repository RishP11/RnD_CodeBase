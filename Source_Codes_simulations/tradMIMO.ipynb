{
 "cells": [
  {
   "cell_type": "markdown",
   "metadata": {},
   "source": [
    "**tradMIMO**<br>\n",
    "by $\\text{Rishabh Pomaje}$\n",
    "\n",
    "- This file contains the simulations of a $2 \\times 2$ **S**ingular-**V**alue **D**ecomposition (SVD) - based conventional communication system. \n",
    "- The results are meant to be used as benchmarks for the DNN learnt in the file $\\color{gold}{deepMIMO.ipynb}$\n",
    "- Two pipelines are considered as follows :\n",
    "    1. Without any channel coding\n",
    "    2. With Hamming (7, 4) channel coding<br>\n",
    "        a. Hard Decision + Syndrome-based correction "
   ]
  },
  {
   "cell_type": "code",
   "execution_count": 1,
   "metadata": {},
   "outputs": [],
   "source": [
    "# Dependencies :\n",
    "import numpy as np \n",
    "import matplotlib.pyplot as plt \n",
    "%config InlineBackend.figure_format='svg'"
   ]
  },
  {
   "cell_type": "markdown",
   "metadata": {},
   "source": [
    "- Function Definitions"
   ]
  },
  {
   "cell_type": "code",
   "execution_count": 4,
   "metadata": {},
   "outputs": [],
   "source": [
    "# Importing from custom made module CommSysLib\n",
    "import CommSysLib as csl"
   ]
  },
  {
   "cell_type": "markdown",
   "metadata": {},
   "source": [
    "- System Parameters"
   ]
  },
  {
   "cell_type": "code",
   "execution_count": 5,
   "metadata": {},
   "outputs": [],
   "source": [
    "k, n = 4, 7         # Uncoded and coded block lengths\n",
    "R = k / n           # Information rate\n",
    "E_b = 1             # Energy per bit\n",
    "\n",
    "# SNR range in dB and linear scale\n",
    "n_points = 30\n",
    "SNR_dB = np.linspace(-2, 20, n_points)\n",
    "SNR_lin = 10 ** (SNR_dB / 10)\n",
    "\n",
    "# Fading model : Rayleigh Fading \n",
    "fade_mean = 0 \n",
    "fade_std = np.sqrt(0.5)"
   ]
  },
  {
   "cell_type": "markdown",
   "metadata": {},
   "source": [
    "- Data generation (Random binary data)"
   ]
  },
  {
   "cell_type": "code",
   "execution_count": 6,
   "metadata": {},
   "outputs": [
    {
     "name": "stdout",
     "output_type": "stream",
     "text": [
      "Samples : [0 1 0 0 1 1 0 1 1 0]\n"
     ]
    }
   ],
   "source": [
    "n_bits = 10 ** 5\n",
    "n_bits_c = n * n_bits // k\n",
    "binary_stream_tx = np.random.randint(0, 2, n_bits)\n",
    "\n",
    "print(f'Samples : {binary_stream_tx[:10]}')"
   ]
  },
  {
   "cell_type": "markdown",
   "metadata": {},
   "source": [
    "### Without channel coding"
   ]
  },
  {
   "cell_type": "markdown",
   "metadata": {},
   "source": [
    "- Constellation Mapping"
   ]
  },
  {
   "cell_type": "code",
   "execution_count": 7,
   "metadata": {},
   "outputs": [
    {
     "name": "stdout",
     "output_type": "stream",
     "text": [
      "Samples : [ 1. -1.  1.  1. -1. -1.  1. -1. -1.  1.]\n"
     ]
    }
   ],
   "source": [
    "signal_stream_tx = csl.BPSK_mapper(binary_stream_tx, E_b)\n",
    "print(f'Samples : {signal_stream_tx[:10]}')"
   ]
  },
  {
   "cell_type": "markdown",
   "metadata": {},
   "source": [
    "- Transmission"
   ]
  },
  {
   "cell_type": "code",
   "execution_count": null,
   "metadata": {},
   "outputs": [],
   "source": []
  },
  {
   "cell_type": "markdown",
   "metadata": {},
   "source": [
    "- Simulating the channel and the decoding"
   ]
  },
  {
   "cell_type": "code",
   "execution_count": null,
   "metadata": {},
   "outputs": [],
   "source": []
  },
  {
   "cell_type": "markdown",
   "metadata": {},
   "source": [
    "### With Channel Coding"
   ]
  },
  {
   "cell_type": "markdown",
   "metadata": {},
   "source": [
    "- Channel coding"
   ]
  },
  {
   "cell_type": "markdown",
   "metadata": {},
   "source": [
    "- Constellation Mapping"
   ]
  },
  {
   "cell_type": "markdown",
   "metadata": {},
   "source": [
    "- Transmission "
   ]
  },
  {
   "cell_type": "markdown",
   "metadata": {},
   "source": [
    "- Simulating the channel and the decoding"
   ]
  }
 ],
 "metadata": {
  "kernelspec": {
   "display_name": "ML_Tflow",
   "language": "python",
   "name": "python3"
  },
  "language_info": {
   "codemirror_mode": {
    "name": "ipython",
    "version": 3
   },
   "file_extension": ".py",
   "mimetype": "text/x-python",
   "name": "python",
   "nbconvert_exporter": "python",
   "pygments_lexer": "ipython3",
   "version": "3.11.9"
  }
 },
 "nbformat": 4,
 "nbformat_minor": 2
}
